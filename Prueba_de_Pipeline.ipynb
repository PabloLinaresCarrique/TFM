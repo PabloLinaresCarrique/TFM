{
  "nbformat": 4,
  "nbformat_minor": 0,
  "metadata": {
    "colab": {
      "provenance": []
    },
    "kernelspec": {
      "name": "python3",
      "display_name": "Python 3"
    },
    "language_info": {
      "name": "python"
    }
  },
  "cells": [
    {
      "cell_type": "code",
      "execution_count": null,
      "metadata": {
        "id": "nqgzbiieMnEP"
      },
      "outputs": [],
      "source": [
        "import pandas as pd\n",
        "import pickle\n",
        "\n",
        "# Cargar el pipeline desde el archivo PKL\n",
        "pipeline_path = '/content/drive/My Drive/Thesis/random_forest_pipeline.pkl'\n",
        "with open(pipeline_path, 'rb') as file:\n",
        "    pipeline = pickle.load(file)\n",
        "\n",
        "# Cargar un nuevo dataset\n",
        "nuevo_df = pd.read_csv('/content/drive/My Drive/Thesis/LI-Medium_Trans.csv')\n",
        "\n",
        "# Usar el pipeline para hacer predicciones\n",
        "predicciones = pipeline.predict(nuevo_df)\n",
        "\n",
        "# (Opcional) Mostrar las predicciones\n",
        "print(predicciones)\n"
      ]
    }
  ]
}