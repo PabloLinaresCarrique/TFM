{
 "cells": [
  {
   "cell_type": "markdown",
   "id": "a354652c-63e2-4b25-9b46-2fa0b98c7949",
   "metadata": {},
   "source": [
    "## Productivizar modelo"
   ]
  },
  {
   "cell_type": "raw",
   "id": "0947424a-aa80-4aee-836c-5704ec317e2a",
   "metadata": {},
   "source": [
    "!pip install flask"
   ]
  },
  {
   "cell_type": "code",
   "execution_count": 1,
   "id": "2832a515-7ba5-467d-a6d6-92cd7cc6835e",
   "metadata": {},
   "outputs": [],
   "source": [
    "from flask import Flask, request, jsonify\n",
    "import pandas as pd\n",
    "import numpy as np\n",
    "import sklearn\n",
    "import pickle\n",
    "import joblib\n",
    "import json\n",
    "import traceback\n",
    "from sklearn.preprocessing import LabelEncoder\n",
    "\n",
    "import warnings\n",
    "warnings.filterwarnings(\"ignore\")"
   ]
  },
  {
   "cell_type": "code",
   "execution_count": 2,
   "id": "db172ebf-fb89-45bf-86de-e44d4d009ef7",
   "metadata": {},
   "outputs": [],
   "source": [
    "app = Flask(__name__)"
   ]
  },
  {
   "cell_type": "raw",
   "id": "27df5934-2dd3-4421-a25e-19d977b56f81",
   "metadata": {},
   "source": [
    "#Carga del modelo\n",
    "\n",
    "with open(\"model.pkl\", \"rb\") as file:\n",
    "    model = pickle.load(file)"
   ]
  },
  {
   "cell_type": "raw",
   "id": "56536e59-0168-4192-b1f3-83b91ab8cd70",
   "metadata": {},
   "source": [
    "@app.route('/hola', methods=['POST'])\n",
    "def hola():\n",
    "    # Lógica para manejar la solicitud\n",
    "    return jsonify({'mensaje': '¡Hola mundo!'}), 200"
   ]
  },
  {
   "cell_type": "raw",
   "id": "89151f48-38bd-431b-8d79-3f69cfa3e5fa",
   "metadata": {},
   "source": [
    "# Flask Launch\n",
    "if __name__ == '__main__':\n",
    "    app.run(host='127.0.0.1', port=8080)"
   ]
  },
  {
   "cell_type": "raw",
   "id": "aa6e286f-c783-47e1-8112-a6cceb00227a",
   "metadata": {},
   "source": [
    "# Cargar el modelo previamente entrenado\n",
    "model = pickle.load(open('model.pkl', 'rb'))\n",
    "\n",
    "label_encoder = joblib.load('label_encoder.pkl')\n",
    "\n",
    "def safe_transform(encoder, series):\n",
    "    try:\n",
    "        return encoder.transform(series.astype(str))\n",
    "    except ValueError:\n",
    "        # Para categorías desconocidas\n",
    "        return pd.Series([encoder.transform([x])[0] if x in encoder.classes_ else -1 for x in series])\n",
    "\n"
   ]
  },
  {
   "cell_type": "code",
   "execution_count": 3,
   "id": "91baa054-fe03-4e8d-a03c-426e4e05ae60",
   "metadata": {},
   "outputs": [],
   "source": [
    "# Cargar el codificador y el modelo\n",
    "label_encoder = joblib.load('label_encoder.pkl')\n",
    "model = joblib.load('model.pkl')"
   ]
  },
  {
   "cell_type": "code",
   "execution_count": 4,
   "id": "7375a9c2-9cc6-4b3b-a6f4-fb7f9fabdd1d",
   "metadata": {},
   "outputs": [],
   "source": [
    "@app.route('/prediccion', methods=['POST'])\n",
    "def prediccion():\n",
    "    try:\n",
    "        # Obtener los datos de la petición\n",
    "        data = request.get_json(force=True)\n",
    "        \n",
    "        # Convertir los datos de JSON a un DataFrame\n",
    "        df = pd.json_normalize(data)\n",
    "        \n",
    "        # Verificar y procesar la columna 'Timestamp'\n",
    "        if 'Timestamp' in df.columns:\n",
    "            df['Timestamp'] = pd.to_datetime(df['Timestamp'], errors='coerce')\n",
    "            df['Year'] = df['Timestamp'].dt.year\n",
    "            df['Month'] = df['Timestamp'].dt.month\n",
    "            df['Day'] = df['Timestamp'].dt.day\n",
    "            df['Hour'] = df['Timestamp'].dt.hour\n",
    "            df['Minute'] = df['Timestamp'].dt.minute\n",
    "            df = df.drop(columns=['Timestamp'])\n",
    "\n",
    "        # Transformar las columnas categóricas usando el encoder cargado\n",
    "        categorical_columns = ['Account2', 'Account4', 'Receiving Currency', 'Payment Currency', 'Payment Format']\n",
    "        for col in categorical_columns:\n",
    "            if col in df.columns:\n",
    "                if df[col].dtype == 'object':\n",
    "                    # Manejar categorías desconocidas\n",
    "                    df[col] = safe_transform(label_encoder, df[col], col)\n",
    "                else:\n",
    "                    # Si la columna no es de tipo 'object', no se transforma\n",
    "                    df[col] = df[col]\n",
    "\n",
    "        # Verificar y transformar 'Account4' si es necesario\n",
    "        if 'Account4' in df.columns:\n",
    "            try:\n",
    "                df['Account4'] = df['Account4'].astype(str)  # Convertir a string si es necesario\n",
    "                df['Account4'] = pd.to_numeric(df['Account4'], errors='coerce')\n",
    "                df['Account4'].fillna(df['Account4'].mean(), inplace=True)\n",
    "            except Exception as e:\n",
    "                print(f\"Error al transformar 'Account4': {e}\")\n",
    "\n",
    "        # Convertir a numpy array, excluyendo las columnas que no sean numéricas\n",
    "        numeric_df = df.select_dtypes(include=[float, int])\n",
    "        data_to_numpy = numeric_df.values.astype(float)\n",
    "        \n",
    "        # Hacer la predicción\n",
    "        prediction = model.predict(data_to_numpy)\n",
    "        prediction_list = prediction.tolist()\n",
    "        \n",
    "        return jsonify(prediction_list)\n",
    "    \n",
    "    except Exception as e:\n",
    "        print(\"Error durante la predicción:\")\n",
    "        print(e)\n",
    "        traceback.print_exc()  # Imprimir el traceback completo del error\n",
    "        return jsonify({\"error\": str(e)}), 500\n",
    "\n",
    "def safe_transform(encoder, series, column_name):\n",
    "    \"\"\" Transformar categorías con un encoder, manejando valores desconocidos. \"\"\"\n",
    "    try:\n",
    "        return encoder.transform(series.astype(str))\n",
    "    except ValueError:\n",
    "        # Para categorías desconocidas, asignar un valor por defecto (-1 o similar)\n",
    "        # Esta parte depende de cómo has entrenado tu encoder. \n",
    "        # Asegúrate de ajustar esto según el codificador específico.\n",
    "        return pd.Series([encoder.transform([x])[0] if x in encoder.classes_ else -1 for x in series])"
   ]
  },
  {
   "cell_type": "code",
   "execution_count": 5,
   "id": "75574079-d8ba-4838-9169-97bf14081aa8",
   "metadata": {},
   "outputs": [
    {
     "name": "stdout",
     "output_type": "stream",
     "text": [
      " * Serving Flask app '__main__'\n",
      " * Debug mode: off\n"
     ]
    },
    {
     "name": "stderr",
     "output_type": "stream",
     "text": [
      "WARNING: This is a development server. Do not use it in a production deployment. Use a production WSGI server instead.\n",
      " * Running on http://127.0.0.1:8080\n",
      "Press CTRL+C to quit\n",
      "127.0.0.1 - - [26/Aug/2024 18:22:11] \"POST /prediccion HTTP/1.1\" 200 -\n",
      "127.0.0.1 - - [26/Aug/2024 18:22:14] \"POST /prediccion HTTP/1.1\" 200 -\n"
     ]
    }
   ],
   "source": [
    "if __name__ == '__main__':\n",
    "    app.run(host='127.0.0.1', port=8080)"
   ]
  },
  {
   "cell_type": "code",
   "execution_count": 4,
   "id": "e1e3c015-131f-4dfd-8e66-789f3df13275",
   "metadata": {},
   "outputs": [],
   "source": [
    "from flask import Flask, request, jsonify\n",
    "import pandas as pd\n",
    "import traceback\n",
    "\n",
    "app = Flask(__name__)\n",
    "\n",
    "# Aquí deberías cargar tu modelo y el codificador\n",
    "# Supongamos que ya están cargados en las variables `model` y `label_encoder`\n",
    "\n",
    "@app.route('/prediccion', methods=['POST'])\n",
    "def prediccion():\n",
    "    try:\n",
    "        # Obtener los datos de la petición\n",
    "        data = request.get_json(force=True)\n",
    "        \n",
    "        # Convertir los datos de JSON a un DataFrame\n",
    "        df = pd.json_normalize(data)\n",
    "        \n",
    "        # Verificar y procesar la columna 'Timestamp'\n",
    "        if 'Timestamp' in df.columns:\n",
    "            df['Timestamp'] = pd.to_datetime(df['Timestamp'], errors='coerce')\n",
    "            df['Year'] = df['Timestamp'].dt.year\n",
    "            df['Month'] = df['Timestamp'].dt.month\n",
    "            df['Day'] = df['Timestamp'].dt.day\n",
    "            df['Hour'] = df['Timestamp'].dt.hour\n",
    "            df['Minute'] = df['Timestamp'].dt.minute\n",
    "            df = df.drop(columns=['Timestamp'])\n",
    "\n",
    "        # Transformar las columnas categóricas usando el encoder cargado\n",
    "        categorical_columns = ['Account2', 'Account4', 'Receiving Currency', 'Payment Currency', 'Payment Format']\n",
    "        for col in categorical_columns:\n",
    "            if col in df.columns:\n",
    "                if df[col].dtype == 'object':\n",
    "                    # Manejar categorías desconocidas\n",
    "                    df[col] = safe_transform(label_encoder, df[col], col)\n",
    "                else:\n",
    "                    # Si la columna no es de tipo 'object', no se transforma\n",
    "                    df[col] = df[col]\n",
    "\n",
    "        # Verificar y transformar 'Account4' si es necesario\n",
    "        if 'Account4' in df.columns:\n",
    "            try:\n",
    "                df['Account4'] = df['Account4'].astype(str)  # Convertir a string si es necesario\n",
    "                df['Account4'] = pd.to_numeric(df['Account4'], errors='coerce')\n",
    "                df['Account4'].fillna(df['Account4'].mean(), inplace=True)\n",
    "            except Exception as e:\n",
    "                print(f\"Error al transformar 'Account4': {e}\")\n",
    "\n",
    "        # Convertir a numpy array, excluyendo las columnas que no sean numéricas\n",
    "        numeric_df = df.select_dtypes(include=[float, int])\n",
    "        data_to_numpy = numeric_df.values.astype(float)\n",
    "        \n",
    "        # Hacer la predicción\n",
    "        prediction = model.predict(data_to_numpy)\n",
    "        prediction_proba = model.predict_proba(data_to_numpy)\n",
    "        \n",
    "        # Convertir predicciones y probabilidades a listas para el JSON de respuesta\n",
    "        prediction_list = prediction.tolist()\n",
    "        prediction_proba_list = prediction_proba.tolist()\n",
    "        \n",
    "        # Devolver tanto la predicción como la probabilidad en la respuesta\n",
    "        return jsonify({\n",
    "            \"prediction\": prediction_list,\n",
    "            \"probability\": prediction_proba_list\n",
    "        })\n",
    "    \n",
    "    except Exception as e:\n",
    "        print(\"Error durante la predicción:\")\n",
    "        print(e)\n",
    "        traceback.print_exc()  # Imprimir el traceback completo del error\n",
    "        return jsonify({\"error\": str(e)}), 500\n",
    "\n",
    "def safe_transform(encoder, series, column_name):\n",
    "    \"\"\" Transformar categorías con un encoder, manejando valores desconocidos. \"\"\"\n",
    "    try:\n",
    "        return encoder.transform(series.astype(str))\n",
    "    except ValueError:\n",
    "        # Para categorías desconocidas, asignar un valor por defecto (-1 o similar)\n",
    "        # Esta parte depende de cómo has entrenado tu encoder. \n",
    "        # Asegúrate de ajustar esto según el codificador específico.\n",
    "        return pd.Series([encoder.transform([x])[0] if x in encoder.classes_ else -1 for x in series])\n"
   ]
  },
  {
   "cell_type": "code",
   "execution_count": null,
   "id": "afc14ca5-9c41-48c9-9eb2-9733a2343f17",
   "metadata": {},
   "outputs": [
    {
     "name": "stdout",
     "output_type": "stream",
     "text": [
      " * Serving Flask app '__main__'\n",
      " * Debug mode: off\n"
     ]
    },
    {
     "name": "stderr",
     "output_type": "stream",
     "text": [
      "WARNING: This is a development server. Do not use it in a production deployment. Use a production WSGI server instead.\n",
      " * Running on http://127.0.0.1:8080\n",
      "Press CTRL+C to quit\n",
      "127.0.0.1 - - [26/Aug/2024 20:05:48] \"POST /prediccion HTTP/1.1\" 200 -\n"
     ]
    }
   ],
   "source": [
    "if __name__ == '__main__':\n",
    "    app.run(host='127.0.0.1', port=8080)"
   ]
  },
  {
   "cell_type": "code",
   "execution_count": null,
   "id": "e9145180-5479-40df-bd62-06fd49684da9",
   "metadata": {},
   "outputs": [],
   "source": []
  }
 ],
 "metadata": {
  "kernelspec": {
   "display_name": "Python 3 (ipykernel)",
   "language": "python",
   "name": "python3"
  },
  "language_info": {
   "codemirror_mode": {
    "name": "ipython",
    "version": 3
   },
   "file_extension": ".py",
   "mimetype": "text/x-python",
   "name": "python",
   "nbconvert_exporter": "python",
   "pygments_lexer": "ipython3",
   "version": "3.12.4"
  }
 },
 "nbformat": 4,
 "nbformat_minor": 5
}
