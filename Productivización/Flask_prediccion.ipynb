{
 "cells": [
  {
   "cell_type": "code",
   "execution_count": 1,
   "id": "8da9194e-d3da-46e6-a037-d0a5be73fc00",
   "metadata": {},
   "outputs": [],
   "source": [
    "import requests\n",
    "import json\n",
    "from flask import Flask, request, jsonify\n",
    "import pandas as pd"
   ]
  },
  {
   "cell_type": "code",
   "execution_count": 2,
   "id": "e83dc8df-e266-475c-9e99-82ec59825099",
   "metadata": {},
   "outputs": [
    {
     "name": "stdout",
     "output_type": "stream",
     "text": [
      "[0]\n"
     ]
    }
   ],
   "source": [
    "url = 'http://127.0.0.1:8080/prediccion'\n",
    "headers = {'Content-Type': 'application/json'}\n",
    "data = [\n",
    "    {\n",
    "        \"Timestamp\": \"2022/09/01 00:23\",\n",
    "        \"From Bank\": 1,\n",
    "        \"Account2\": \"8001111F0\",\n",
    "        \"To Bank\": 1,\n",
    "        \"Account4\": \"8001111F0\",\n",
    "        \"Amount Received\": 3666.32,\n",
    "        \"Receiving Currency\": \"US Dollar\",\n",
    "        \"Amount Paid\": 3666.32,\n",
    "        \"Payment Currency\": \"US Dollar\",\n",
    "        \"Payment Format\": \"Reinvestment\"\n",
    "    }\n",
    "]\n",
    "\n",
    "response = requests.post(url, json=data, headers=headers)\n",
    "print(response.json())"
   ]
  },
  {
   "cell_type": "code",
   "execution_count": 6,
   "id": "7b9f8610-58d0-4cd0-9032-5931c1e6f501",
   "metadata": {},
   "outputs": [
    {
     "name": "stdout",
     "output_type": "stream",
     "text": [
      "{'prediction': [1, 0], 'probability': [[0.15, 0.85], [0.72, 0.28]]}\n"
     ]
    }
   ],
   "source": [
    "url = 'http://127.0.0.1:8080/prediccion'\n",
    "headers = {'Content-Type': 'application/json'}\n",
    "data = [\n",
    "    {\n",
    "        \"Timestamp\": \"2022/11/05 13:14\",\n",
    "        \"From Bank\": 2193660,\n",
    "        \"Account2\": \"8472C2F60\",\n",
    "        \"To Bank\": 1191083,\n",
    "        \"Account4\": \"8472C3A10\",\n",
    "        \"Amount Received\": 16467.11,\n",
    "        \"Receiving Currency\": \"Shekel\",\n",
    "        \"Amount Paid\": 16467.11,\n",
    "        \"Payment Currency\": \"Shekel\",\n",
    "        \"Payment Format\": \"ACH\",\n",
    "    },\n",
    "    {\n",
    "        \"Timestamp\": \"2022/09/01 00:23\",\n",
    "        \"From Bank\": 1,\n",
    "        \"Account2\": \"8001111F0\",\n",
    "        \"To Bank\": 1,\n",
    "        \"Account4\": \"8001111F0\",\n",
    "        \"Amount Received\": 3666.32,\n",
    "        \"Receiving Currency\": \"US Dollar\",\n",
    "        \"Amount Paid\": 3666.32,\n",
    "        \"Payment Currency\": \"US Dollar\",\n",
    "        \"Payment Format\": \"Reinvestment\"\n",
    "    }\n",
    "]\n",
    "\n",
    "\n",
    "response = requests.post(url, json=data, headers=headers)\n",
    "print(response.json())"
   ]
  },
  {
   "cell_type": "code",
   "execution_count": 5,
   "id": "1cf26839-60a0-4e61-80e8-5dd8db2ca4d5",
   "metadata": {},
   "outputs": [
    {
     "name": "stdout",
     "output_type": "stream",
     "text": [
      "Predicción: [0]\n",
      "Probabilidades: [[0.72, 0.28]]\n"
     ]
    }
   ],
   "source": [
    "url = 'http://127.0.0.1:8080/prediccion'\n",
    "headers = {'Content-Type': 'application/json'}\n",
    "data = [\n",
    "    {\n",
    "        \"Timestamp\": \"2022/09/01 00:23\",\n",
    "        \"From Bank\": 1,\n",
    "        \"Account2\": \"8001111F0\",\n",
    "        \"To Bank\": 1,\n",
    "        \"Account4\": \"8001111F0\",\n",
    "        \"Amount Received\": 3666.32,\n",
    "        \"Receiving Currency\": \"US Dollar\",\n",
    "        \"Amount Paid\": 3666.32,\n",
    "        \"Payment Currency\": \"US Dollar\",\n",
    "        \"Payment Format\": \"Reinvestment\"\n",
    "    }\n",
    "]\n",
    "\n",
    "response = requests.post(url, json=data, headers=headers)\n",
    "\n",
    "if response.status_code == 200:\n",
    "    result = response.json()\n",
    "    prediction = result['prediction']\n",
    "    probability = result['probability']\n",
    "    print(f\"Predicción: {prediction}\")\n",
    "    print(f\"Probabilidades: {probability}\")\n",
    "else:\n",
    "    print(f\"Error en la solicitud: {response.status_code} - {response.text}\")"
   ]
  },
  {
   "cell_type": "code",
   "execution_count": 7,
   "id": "81ef59a5-1023-43d3-9402-15b50bb52eea",
   "metadata": {},
   "outputs": [
    {
     "name": "stdout",
     "output_type": "stream",
     "text": [
      "Predicciones: [0, 0, 0]\n",
      "Probabilidades: [[0.61, 0.39], [0.62, 0.38], [0.64, 0.36]]\n"
     ]
    }
   ],
   "source": [
    "url = 'http://127.0.0.1:8080/prediccion'\n",
    "headers = {'Content-Type': 'application/json'}\n",
    "\n",
    "data = [\n",
    "    {\n",
    "        \"Timestamp\": \"2022/09/01 00:15\",\n",
    "        \"From Bank\": 20,\n",
    "        \"Account2\": \"800104D70\",\n",
    "        \"To Bank\": 20,\n",
    "        \"Account4\": \"800104D70\",\n",
    "        \"Amount Received\": 8095.07,\n",
    "        \"Receiving Currency\": \"US Dollar\",\n",
    "        \"Amount Paid\": 8095.07,\n",
    "        \"Payment Currency\": \"US Dollar\",\n",
    "        \"Payment Format\": \"Reinvestment\"\n",
    "    },\n",
    "    {\n",
    "        \"Timestamp\": \"2022/09/01 00:18\",\n",
    "        \"From Bank\": 3196,\n",
    "        \"Account2\": \"800107150\",\n",
    "        \"To Bank\": 3196,\n",
    "        \"Account4\": \"800107150\",\n",
    "        \"Amount Received\": 7739.29,\n",
    "        \"Receiving Currency\": \"US Dollar\",\n",
    "        \"Amount Paid\": 7739.29,\n",
    "        \"Payment Currency\": \"US Dollar\",\n",
    "        \"Payment Format\": \"Reinvestment\"\n",
    "    },\n",
    "    {\n",
    "        \"Timestamp\": \"2022/09/01 00:23\",\n",
    "        \"From Bank\": 1208,\n",
    "        \"Account2\": \"80010E430\",\n",
    "        \"To Bank\": 1208,\n",
    "        \"Account4\": \"80010E430\",\n",
    "        \"Amount Received\": 2654.22,\n",
    "        \"Receiving Currency\": \"US Dollar\",\n",
    "        \"Amount Paid\": 2654.22,\n",
    "        \"Payment Currency\": \"US Dollar\",\n",
    "        \"Payment Format\": \"Reinvestment\"\n",
    "    }\n",
    "]\n",
    "\n",
    "response = requests.post(url, json=data, headers=headers)\n",
    "\n",
    "if response.status_code == 200:\n",
    "    result = response.json()\n",
    "    prediction = result.get('prediction', [])\n",
    "    probability = result.get('probability', [])\n",
    "    print(f\"Predicciones: {prediction}\")\n",
    "    print(f\"Probabilidades: {probability}\")\n",
    "else:\n",
    "    print(f\"Error en la solicitud: {response.status_code} - {response.text}\")"
   ]
  },
  {
   "cell_type": "code",
   "execution_count": 2,
   "id": "68a9e777-6a47-458b-a29e-b2e66901ffb3",
   "metadata": {},
   "outputs": [
    {
     "name": "stdout",
     "output_type": "stream",
     "text": [
      "Predicciones: [0, 0, 0]\n",
      "Probabilidades: [[0.61, 0.39], [0.62, 0.38], [0.64, 0.36]]\n"
     ]
    }
   ],
   "source": [
    "data = [\n",
    "    [\"2022/09/01 00:15\", 20, \"800104D70\", 20, \"800104D70\", 8095.07, \"US Dollar\", 8095.07, \"US Dollar\", \"Reinvestment\", 0],\n",
    "    [\"2022/09/01 00:18\", 3196, \"800107150\", 3196, \"800107150\", 7739.29, \"US Dollar\", 7739.29, \"US Dollar\", \"Reinvestment\", 0],\n",
    "    [\"2022/09/01 00:23\", 1208, \"80010E430\", 1208, \"80010E430\", 2654.22, \"US Dollar\", 2654.22, \"US Dollar\", \"Reinvestment\", 0]\n",
    "]\n",
    "\n",
    "# Crear un DataFrame con los datos\n",
    "df = pd.DataFrame(data, columns=[\n",
    "    \"Timestamp\", \"From Bank\", \"Account2\", \"To Bank\", \"Account4\", \n",
    "    \"Amount Received\", \"Receiving Currency\", \"Amount Paid\", \n",
    "    \"Payment Currency\", \"Payment Format\", \"Class\"\n",
    "])\n",
    "\n",
    "# Convertir el DataFrame a una lista de diccionarios para enviar como JSON (sin la columna de clase)\n",
    "json_data = df.drop(columns=[\"Class\"]).to_dict(orient='records')\n",
    "\n",
    "\n",
    "# Configurar la URL y los encabezados\n",
    "url = 'http://127.0.0.1:8080/prediccion'\n",
    "headers = {'Content-Type': 'application/json'}\n",
    "\n",
    "# Enviar la solicitud POST\n",
    "response = requests.post(url, json=json_data, headers=headers)\n",
    "\n",
    "# Manejar la respuesta\n",
    "if response.status_code == 200:\n",
    "    result = response.json()\n",
    "    prediction = result.get('prediction', [])\n",
    "    probability = result.get('probability', [])\n",
    "    print(f\"Predicciones: {prediction}\")\n",
    "    print(f\"Probabilidades: {probability}\")\n",
    "else:\n",
    "    print(f\"Error en la solicitud: {response.status_code} - {response.text}\")"
   ]
  },
  {
   "cell_type": "code",
   "execution_count": null,
   "id": "5c2b8023-55b1-4b4f-8f36-c744eb54f069",
   "metadata": {},
   "outputs": [],
   "source": []
  }
 ],
 "metadata": {
  "kernelspec": {
   "display_name": "Python 3 (ipykernel)",
   "language": "python",
   "name": "python3"
  },
  "language_info": {
   "codemirror_mode": {
    "name": "ipython",
    "version": 3
   },
   "file_extension": ".py",
   "mimetype": "text/x-python",
   "name": "python",
   "nbconvert_exporter": "python",
   "pygments_lexer": "ipython3",
   "version": "3.12.4"
  }
 },
 "nbformat": 4,
 "nbformat_minor": 5
}
