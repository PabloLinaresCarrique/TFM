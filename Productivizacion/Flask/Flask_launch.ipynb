{
 "cells": [
  {
   "cell_type": "markdown",
   "id": "a354652c-63e2-4b25-9b46-2fa0b98c7949",
   "metadata": {},
   "source": [
    "## Productivizar modelo"
   ]
  },
  {
   "cell_type": "raw",
   "id": "0947424a-aa80-4aee-836c-5704ec317e2a",
   "metadata": {},
   "source": [
    "!pip install flask"
   ]
  },
  {
   "cell_type": "code",
   "execution_count": 1,
   "id": "2832a515-7ba5-467d-a6d6-92cd7cc6835e",
   "metadata": {},
   "outputs": [],
   "source": [
    "from flask import Flask, request, jsonify\n",
    "import pandas as pd\n",
    "import numpy as np\n",
    "import sklearn\n",
    "import pickle\n",
    "import joblib\n",
    "import json\n",
    "import traceback\n",
    "from sklearn.preprocessing import LabelEncoder\n",
    "\n",
    "import warnings\n",
    "warnings.filterwarnings(\"ignore\")"
   ]
  },
  {
   "cell_type": "code",
   "execution_count": 2,
   "id": "db172ebf-fb89-45bf-86de-e44d4d009ef7",
   "metadata": {},
   "outputs": [],
   "source": [
    "app = Flask(__name__)"
   ]
  },
  {
   "cell_type": "code",
   "execution_count": 3,
   "id": "a3b60a94-254b-4605-9b77-7d6a7a467904",
   "metadata": {},
   "outputs": [],
   "source": [
    "# Cargar el codificador y el modelo\n",
    "\n",
    "with open('label_encoders1.pkl', 'rb') as file:\n",
    "    label_encoders = pickle.load(file)\n",
    "\n",
    "with open('model_xgb_optimized.pkl', 'rb') as file:\n",
    "    model = pickle.load(file)\n"
   ]
  },
  {
   "cell_type": "code",
   "execution_count": 4,
   "id": "bee75625-0a28-480c-a188-d4fc5d955884",
   "metadata": {},
   "outputs": [],
   "source": [
    "# Función de transformación segura\n",
    "def safe_transform(encoder_dict, series, column_name):\n",
    "    \"\"\"Transformar categorías con un encoder, manejando valores desconocidos.\"\"\"\n",
    "    if column_name not in encoder_dict:\n",
    "        raise ValueError(f\"No hay codificador para la columna {column_name}\")\n",
    "    \n",
    "    encoder = encoder_dict[column_name]\n",
    "    # Transformar valores usando el encoder\n",
    "    try:\n",
    "        return series.map(lambda x: encoder.transform([x])[0] if x in encoder.classes_ else -1)\n",
    "    except ValueError:\n",
    "        # Para categorías desconocidas, asignar un valor por defecto \n",
    "        return series.map(lambda x: encoder.transform([x])[0] if x in encoder.classes_ else -1)"
   ]
  },
  {
   "cell_type": "code",
   "execution_count": 5,
   "id": "e1e3c015-131f-4dfd-8e66-789f3df13275",
   "metadata": {},
   "outputs": [],
   "source": [
    "# Definir la ruta de predicción\n",
    "@app.route('/prediccion', methods=['POST'])\n",
    "def prediccion():\n",
    "    try:\n",
    "        data = request.get_json(force=True)\n",
    "        \n",
    "        # Asegúrate de que 'data' sea una lista de diccionarios o un diccionario\n",
    "        if isinstance(data, dict):\n",
    "            data = [data]  # Convertir un solo diccionario en una lista\n",
    "        \n",
    "        if not isinstance(data, list) or not all(isinstance(item, dict) for item in data):\n",
    "            return jsonify({\"error\": \"Se espera una lista de diccionarios\"}), 400\n",
    "        \n",
    "        df = pd.json_normalize(data)\n",
    "\n",
    "        # Renombrar las columnas si es necesario\n",
    "        if 'Account' in df.columns or 'Account.1' in df.columns:\n",
    "            df.rename(columns={'Account': 'Account2', 'Account.1': 'Account4'}, inplace=True)\n",
    "\n",
    "        # Eliminar la columna \"Is Laundering\" si existe\n",
    "        if 'Is Laundering' in df.columns:\n",
    "            df = df.drop(columns=['Is Laundering'])\n",
    "            \n",
    "        # Asegúrate de que todas las columnas necesarias estén presentes\n",
    "        required_columns = ['From Bank', 'Account2', 'To Bank', 'Account4', \n",
    "                            'Amount Received', 'Receiving Currency', 'Amount Paid', \n",
    "                            'Payment Currency', 'Payment Format']\n",
    "\n",
    "        # Verificar y procesar la columna 'Timestamp'\n",
    "        if 'Timestamp' in df.columns:\n",
    "            df['Timestamp'] = pd.to_datetime(df['Timestamp'], errors='coerce')\n",
    "            df['Year'] = df['Timestamp'].dt.year\n",
    "            df['Month'] = df['Timestamp'].dt.month\n",
    "            df['Day'] = df['Timestamp'].dt.day\n",
    "            df['Hour'] = df['Timestamp'].dt.hour\n",
    "            df['Minute'] = df['Timestamp'].dt.minute\n",
    "            df = df.drop(columns=['Timestamp'])\n",
    "\n",
    "        # Verifica si faltan columnas requeridas\n",
    "        missing_columns = [col for col in required_columns if col not in df.columns]\n",
    "        if missing_columns:\n",
    "            return jsonify({\"error\": f\"Faltan columnas requeridas: {', '.join(missing_columns)}\"}), 400\n",
    "            \n",
    "        # Transformar las columnas categóricas usando el encoder cargado\n",
    "        categorical_columns = ['From Bank', 'To Bank', 'Receiving Currency', 'Payment Currency', 'Payment Format', 'Account2', 'Account4']\n",
    "        for col in categorical_columns:\n",
    "            if col in df.columns:\n",
    "                if df[col].dtype == 'object':\n",
    "                    df[col] = safe_transform(label_encoders, df[col], col)\n",
    "        \n",
    "        # Verificar y transformar 'Account4' si es necesario\n",
    "        if 'Account4' in df.columns:\n",
    "            try:\n",
    "                df['Account4'] = pd.to_numeric(df['Account4'], errors='coerce')\n",
    "                df['Account4'].fillna(df['Account4'].mean(), inplace=True)\n",
    "            except Exception as e:\n",
    "                print(f\"Error al transformar 'Account4': {e}\")\n",
    "\n",
    "        # Convertir a numpy array\n",
    "        numeric_df = df.select_dtypes(include=[float, int])\n",
    "        data_to_numpy = numeric_df.values.astype(float)\n",
    "        \n",
    "        # Hacer la predicción\n",
    "        prediction = model.predict(data_to_numpy)\n",
    "        prediction_proba = model.predict_proba(data_to_numpy)\n",
    "        \n",
    "        # Convertir predicciones y probabilidades a listas para el JSON de respuesta\n",
    "        prediction_list = prediction.tolist()\n",
    "        prediction_proba_list = prediction_proba.tolist()\n",
    "        \n",
    "        return jsonify({\n",
    "            \"prediction\": prediction_list,\n",
    "            \"probability\": prediction_proba_list\n",
    "        })\n",
    "    \n",
    "    except Exception as e:\n",
    "        print(\"Error durante la predicción:\")\n",
    "        print(e)\n",
    "        traceback.print_exc()\n",
    "        return jsonify({\"error\": str(e)}), 500"
   ]
  },
  {
   "cell_type": "code",
   "execution_count": null,
   "id": "afc14ca5-9c41-48c9-9eb2-9733a2343f17",
   "metadata": {},
   "outputs": [
    {
     "name": "stdout",
     "output_type": "stream",
     "text": [
      " * Serving Flask app '__main__'\n",
      " * Debug mode: off\n"
     ]
    },
    {
     "name": "stderr",
     "output_type": "stream",
     "text": [
      "WARNING: This is a development server. Do not use it in a production deployment. Use a production WSGI server instead.\n",
      " * Running on http://127.0.0.1:8080\n",
      "Press CTRL+C to quit\n",
      "127.0.0.1 - - [16/Sep/2024 09:55:10] \"POST /prediccion HTTP/1.1\" 200 -\n",
      "127.0.0.1 - - [16/Sep/2024 09:55:13] \"POST /prediccion HTTP/1.1\" 200 -\n",
      "127.0.0.1 - - [16/Sep/2024 09:55:15] \"POST /prediccion HTTP/1.1\" 200 -\n",
      "127.0.0.1 - - [16/Sep/2024 09:55:26] \"POST /prediccion HTTP/1.1\" 200 -\n"
     ]
    }
   ],
   "source": [
    "if __name__ == '__main__':\n",
    "    app.run(host='127.0.0.1', port=8080)"
   ]
  },
  {
   "cell_type": "code",
   "execution_count": null,
   "id": "c0725912-636c-472c-8a59-480100023fc6",
   "metadata": {},
   "outputs": [],
   "source": []
  }
 ],
 "metadata": {
  "kernelspec": {
   "display_name": "Python 3 (ipykernel)",
   "language": "python",
   "name": "python3"
  },
  "language_info": {
   "codemirror_mode": {
    "name": "ipython",
    "version": 3
   },
   "file_extension": ".py",
   "mimetype": "text/x-python",
   "name": "python",
   "nbconvert_exporter": "python",
   "pygments_lexer": "ipython3",
   "version": "3.12.4"
  }
 },
 "nbformat": 4,
 "nbformat_minor": 5
}
