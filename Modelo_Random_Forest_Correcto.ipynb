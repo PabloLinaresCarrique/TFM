{
  "cells": [
    {
      "cell_type": "code",
      "execution_count": null,
      "metadata": {
        "colab": {
          "base_uri": "https://localhost:8080/"
        },
        "id": "8sACckxK-OyM",
        "outputId": "61a836d5-5136-4d61-bc24-7507e18a45d4"
      },
      "outputs": [
        {
          "output_type": "stream",
          "name": "stdout",
          "text": [
            "Drive already mounted at /content/drive; to attempt to forcibly remount, call drive.mount(\"/content/drive\", force_remount=True).\n"
          ]
        }
      ],
      "source": [
        "# prompt: necesito cargar datos de un csv que se llama export.csv de drive\n",
        "\n",
        "from google.colab import drive\n",
        "drive.mount('/content/drive')\n",
        "\n",
        "import pandas as pd\n",
        "df = pd.read_csv('/content/drive/My Drive/Thesis/export.csv')\n"
      ]
    },
    {
      "cell_type": "code",
      "execution_count": null,
      "metadata": {
        "colab": {
          "base_uri": "https://localhost:8080/"
        },
        "id": "RAFF1U_h-rUd",
        "outputId": "fd399f58-474b-440d-f0ff-1fee4f6fa743"
      },
      "outputs": [
        {
          "output_type": "stream",
          "name": "stdout",
          "text": [
            "Is Laundering\n",
            "0    92.987261\n",
            "1     7.012739\n",
            "Name: count, dtype: float64\n"
          ]
        }
      ],
      "source": [
        "\n",
        "# Contar los registros 'Is Laundering' en 0 y 1\n",
        "counts = df['Is Laundering'].value_counts()\n",
        "\n",
        "# Calcular los porcentajes\n",
        "percentages = counts / counts.sum() * 100\n",
        "\n",
        "# Imprimir los resultados\n",
        "print(percentages)\n"
      ]
    },
    {
      "cell_type": "code",
      "execution_count": null,
      "metadata": {
        "id": "1WLy9chJ_ArS"
      },
      "outputs": [],
      "source": [
        "import pandas as pd\n",
        "\n",
        "# Supongamos que df_combined es tu DataFrame original\n",
        "# Selecciona casos positivos\n",
        "df_positivos = df[df['Is Laundering'] == 1]\n",
        "\n",
        "# Selecciona casos negativos\n",
        "df_negativos = df[df['Is Laundering'] == 0]\n",
        "\n",
        "# Determina el número deseado de casos positivos y negativos\n",
        "n_positivos = len(df_positivos)\n",
        "n_negativos = int(1.5 * n_positivos)  # Ajusta esto para alcanzar el 70% negativos\n",
        "\n",
        "# Reducción de casos negativos\n",
        "df_negativos_reducidos = df_negativos.sample(n=n_negativos, random_state=42)\n",
        "\n",
        "# Combina los datos balanceados\n",
        "df_balanceado = pd.concat([df_positivos, df_negativos_reducidos])\n",
        "\n",
        "# Baraja el DataFrame final\n",
        "df_balanceado = df_balanceado.sample(frac=1, random_state=42).reset_index(drop=True)\n"
      ]
    },
    {
      "cell_type": "code",
      "execution_count": null,
      "metadata": {
        "colab": {
          "base_uri": "https://localhost:8080/"
        },
        "id": "lUnDXb31Bzs4",
        "outputId": "cb0a00ae-e89e-47e8-afff-246e7129b5e4"
      },
      "outputs": [
        {
          "output_type": "stream",
          "name": "stdout",
          "text": [
            "Is Laundering\n",
            "0    573897\n",
            "1    382598\n",
            "Name: count, dtype: int64\n"
          ]
        }
      ],
      "source": [
        "# Contar los registros 'Is Laundering' en 0 y 1\n",
        "counts = df_balanceado['Is Laundering'].value_counts()\n",
        "\n",
        "# Calcular los porcentajes\n",
        "\n",
        "\n",
        "# Imprimir los resultados\n",
        "print(counts)"
      ]
    },
    {
      "cell_type": "code",
      "execution_count": null,
      "metadata": {
        "colab": {
          "base_uri": "https://localhost:8080/",
          "height": 429
        },
        "id": "CUw5Io_8EP9q",
        "outputId": "46f4239d-b73d-4996-c01a-8f8ae078c54e"
      },
      "outputs": [
        {
          "output_type": "execute_result",
          "data": {
            "text/plain": [
              "Timestamp              object\n",
              "From Bank               int64\n",
              "Account2               object\n",
              "To Bank                 int64\n",
              "Account4               object\n",
              "Amount Received       float64\n",
              "Receiving Currency     object\n",
              "Amount Paid           float64\n",
              "Payment Currency       object\n",
              "Payment Format         object\n",
              "Is Laundering           int64\n",
              "dtype: object"
            ],
            "text/html": [
              "<div>\n",
              "<style scoped>\n",
              "    .dataframe tbody tr th:only-of-type {\n",
              "        vertical-align: middle;\n",
              "    }\n",
              "\n",
              "    .dataframe tbody tr th {\n",
              "        vertical-align: top;\n",
              "    }\n",
              "\n",
              "    .dataframe thead th {\n",
              "        text-align: right;\n",
              "    }\n",
              "</style>\n",
              "<table border=\"1\" class=\"dataframe\">\n",
              "  <thead>\n",
              "    <tr style=\"text-align: right;\">\n",
              "      <th></th>\n",
              "      <th>0</th>\n",
              "    </tr>\n",
              "  </thead>\n",
              "  <tbody>\n",
              "    <tr>\n",
              "      <th>Timestamp</th>\n",
              "      <td>object</td>\n",
              "    </tr>\n",
              "    <tr>\n",
              "      <th>From Bank</th>\n",
              "      <td>int64</td>\n",
              "    </tr>\n",
              "    <tr>\n",
              "      <th>Account2</th>\n",
              "      <td>object</td>\n",
              "    </tr>\n",
              "    <tr>\n",
              "      <th>To Bank</th>\n",
              "      <td>int64</td>\n",
              "    </tr>\n",
              "    <tr>\n",
              "      <th>Account4</th>\n",
              "      <td>object</td>\n",
              "    </tr>\n",
              "    <tr>\n",
              "      <th>Amount Received</th>\n",
              "      <td>float64</td>\n",
              "    </tr>\n",
              "    <tr>\n",
              "      <th>Receiving Currency</th>\n",
              "      <td>object</td>\n",
              "    </tr>\n",
              "    <tr>\n",
              "      <th>Amount Paid</th>\n",
              "      <td>float64</td>\n",
              "    </tr>\n",
              "    <tr>\n",
              "      <th>Payment Currency</th>\n",
              "      <td>object</td>\n",
              "    </tr>\n",
              "    <tr>\n",
              "      <th>Payment Format</th>\n",
              "      <td>object</td>\n",
              "    </tr>\n",
              "    <tr>\n",
              "      <th>Is Laundering</th>\n",
              "      <td>int64</td>\n",
              "    </tr>\n",
              "  </tbody>\n",
              "</table>\n",
              "</div><br><label><b>dtype:</b> object</label>"
            ]
          },
          "metadata": {},
          "execution_count": 48
        }
      ],
      "source": [
        "df_balanceado.dtypes"
      ]
    },
    {
      "cell_type": "code",
      "execution_count": null,
      "metadata": {
        "id": "Qxe_D--8Cbfv"
      },
      "outputs": [],
      "source": [
        "import pandas as pd\n",
        "from sklearn.model_selection import train_test_split\n",
        "from sklearn.ensemble import RandomForestClassifier\n",
        "from sklearn.metrics import classification_report, confusion_matrix\n"
      ]
    },
    {
      "cell_type": "code",
      "execution_count": null,
      "metadata": {
        "id": "8oq-RVOODfjP"
      },
      "outputs": [],
      "source": [
        "from sklearn.preprocessing import LabelEncoder\n",
        "\n",
        "# Ejemplo de codificación para una sola columna categórica\n",
        "label_encoder = LabelEncoder()\n",
        "\n",
        "# Codificar 'Account2'\n",
        "df_balanceado['Account2'] = label_encoder.fit_transform(df_balanceado['Account2'])\n",
        "\n",
        "# Si tienes múltiples columnas categóricas\n",
        "for col in ['Account2', 'Receiving Currency', 'Payment Currency', 'Payment Format']:\n",
        "    df_balanceado[col] = label_encoder.fit_transform(df_balanceado[col].astype(str))"
      ]
    },
    {
      "cell_type": "code",
      "execution_count": null,
      "metadata": {
        "id": "6fHfl8-vGhHz"
      },
      "outputs": [],
      "source": [
        "df_balanceado['Timestamp'] = pd.to_datetime(df_balanceado['Timestamp'], errors='coerce')  # Convertir a datetime\n",
        "\n",
        "# Extraer características útiles\n",
        "df_balanceado['Year'] = df_balanceado['Timestamp'].dt.year\n",
        "df_balanceado['Month'] = df_balanceado['Timestamp'].dt.month\n",
        "df_balanceado['Day'] = df_balanceado['Timestamp'].dt.day\n",
        "df_balanceado['Hour'] = df_balanceado['Timestamp'].dt.hour\n",
        "df_balanceado['Minute'] = df_balanceado['Timestamp'].dt.minute\n",
        "\n",
        "# Eliminar la columna original de fecha si ya no es necesaria\n",
        "df_balanceado = df_balanceado.drop(columns=['Timestamp'])"
      ]
    },
    {
      "cell_type": "code",
      "execution_count": null,
      "metadata": {
        "colab": {
          "base_uri": "https://localhost:8080/"
        },
        "id": "ykiYDholHLoN",
        "outputId": "11e239fd-3620-4cad-f818-53b01b8ceb82"
      },
      "outputs": [
        {
          "output_type": "stream",
          "name": "stdout",
          "text": [
            "0    81492E1E1\n",
            "1    8026170E0\n",
            "2    8089CD9A0\n",
            "3    8000EB430\n",
            "4    8127BBDD0\n",
            "Name: Account4, dtype: object\n",
            "['81492E1E1' '8026170E0' '8089CD9A0' ... '80DCF06B0' '80220A090'\n",
            " '81B0DC560']\n"
          ]
        }
      ],
      "source": [
        "# Verificar los primeros valores en la columna 'Account4'\n",
        "print(df_balanceado['Account4'].head())\n",
        "\n",
        "# Verificar los valores únicos para identificar posibles problemas\n",
        "print(df_balanceado['Account4'].unique())\n"
      ]
    },
    {
      "cell_type": "code",
      "execution_count": null,
      "metadata": {
        "id": "cvr4XcSXHd8q"
      },
      "outputs": [],
      "source": [
        "label_encoder = LabelEncoder()\n",
        "df_balanceado['Account4'] = label_encoder.fit_transform(df_balanceado['Account4'].astype(str))"
      ]
    },
    {
      "cell_type": "code",
      "execution_count": null,
      "metadata": {
        "id": "CNllXqjBHm3-"
      },
      "outputs": [],
      "source": [
        "# Reemplazar valores no numéricos con NaN si es necesario\n",
        "df_balanceado['Account4'] = pd.to_numeric(df_balanceado['Account4'], errors='coerce')\n",
        "\n",
        "# Llenar valores nulos con la media de la columna\n",
        "df_balanceado['Account4'].fillna(df_balanceado['Account4'].mean(), inplace=True)\n"
      ]
    },
    {
      "cell_type": "code",
      "execution_count": null,
      "metadata": {
        "id": "ERl5D4qYDkvI"
      },
      "outputs": [],
      "source": [
        "# Separar características y variable objetivo\n",
        "X = df_balanceado.drop('Is Laundering', axis=1)\n",
        "y = df_balanceado['Is Laundering']"
      ]
    },
    {
      "cell_type": "code",
      "execution_count": null,
      "metadata": {
        "colab": {
          "base_uri": "https://localhost:8080/"
        },
        "id": "unqdtmgJHv8V",
        "outputId": "4942f5ba-6ce0-4098-fb48-858b8c436e2d"
      },
      "outputs": [
        {
          "output_type": "stream",
          "name": "stdout",
          "text": [
            "[[113843    632]\n",
            " [  1800  75024]]\n",
            "              precision    recall  f1-score   support\n",
            "\n",
            "           0       0.98      0.99      0.99    114475\n",
            "           1       0.99      0.98      0.98     76824\n",
            "\n",
            "    accuracy                           0.99    191299\n",
            "   macro avg       0.99      0.99      0.99    191299\n",
            "weighted avg       0.99      0.99      0.99    191299\n",
            "\n"
          ]
        }
      ],
      "source": [
        "from sklearn.model_selection import train_test_split\n",
        "from sklearn.ensemble import RandomForestClassifier\n",
        "from sklearn.metrics import classification_report, confusion_matrix\n",
        "\n",
        "# Dividir el conjunto de datos en entrenamiento y prueba\n",
        "X_train, X_test, y_train, y_test = train_test_split(X, y, test_size=0.2, random_state=42)\n",
        "\n",
        "# Crear y entrenar el modelo Random Forest\n",
        "rf_model = RandomForestClassifier(n_estimators=100, random_state=42, class_weight='balanced')\n",
        "rf_model.fit(X_train, y_train)\n",
        "\n",
        "# Hacer predicciones y evaluar el modelo\n",
        "y_pred = rf_model.predict(X_test)\n",
        "print(confusion_matrix(y_test, y_pred))\n",
        "print(classification_report(y_test, y_pred))\n"
      ]
    },
    {
      "cell_type": "code",
      "execution_count": null,
      "metadata": {
        "id": "A-y7kXJpH2Jk"
      },
      "outputs": [],
      "source": [
        "# prompt: Convertir el modelo de Random forest  a un modelo entrenado archivo PKL y guardarlo en mi unidad de drive\n",
        "\n",
        "import pickle\n",
        "\n",
        "# Guardar el modelo entrenado en un archivo PKL\n",
        "filename = '/content/drive/My Drive/Thesis/random_forest_model.pkl'\n",
        "pickle.dump(rf_model, open(filename, 'wb'))\n"
      ]
    }
  ],
  "metadata": {
    "colab": {
      "machine_shape": "hm",
      "provenance": []
    },
    "kernelspec": {
      "display_name": "Python 3",
      "name": "python3"
    },
    "language_info": {
      "name": "python"
    }
  },
  "nbformat": 4,
  "nbformat_minor": 0
}